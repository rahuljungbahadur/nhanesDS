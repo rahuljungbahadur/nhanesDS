{
 "metadata": {
  "language_info": {
   "codemirror_mode": {
    "name": "ipython",
    "version": 3
   },
   "file_extension": ".py",
   "mimetype": "text/x-python",
   "name": "python",
   "nbconvert_exporter": "python",
   "pygments_lexer": "ipython3",
   "version": "3.8.5-final"
  },
  "orig_nbformat": 2,
  "kernelspec": {
   "name": "python3",
   "display_name": "Python 3"
  }
 },
 "nbformat": 4,
 "nbformat_minor": 2,
 "cells": [
  {
   "cell_type": "code",
   "execution_count": 1,
   "metadata": {},
   "outputs": [],
   "source": [
    "import pandas as pd\n",
    "import re"
   ]
  },
  {
   "cell_type": "code",
   "execution_count": 3,
   "metadata": {},
   "outputs": [],
   "source": [
    "nhanesInterviewData = pd.read_sas(\"https://wwwn.cdc.gov/Nchs/Nhanes/2015-2016/DS1IDS_I.XPT\", format = 'XPORT', encoding='iso-8859-1')\n",
    "nhanesProductData = pd.read_sas(\"https://wwwn.cdc.gov/Nchs/Nhanes/1999-2000/DSPI.XPT\", format = 'XPORT', encoding='iso-8859-1')\n",
    "nhanesIngredientInfo = pd.read_sas(\"https://wwwn.cdc.gov/Nchs/Nhanes/1999-2000/DSII.XPT\", format= 'XPORT', encoding = 'iso-8859-1')"
   ]
  },
  {
   "cell_type": "code",
   "execution_count": 4,
   "metadata": {},
   "outputs": [
    {
     "output_type": "execute_result",
     "data": {
      "text/plain": [
       "Index(['SEQN', 'WTDRD1', 'WTDR2D', 'DR1DRSTZ', 'DR1EXMER', 'DRDINT', 'DR1DBIH',\n",
       "       'DR1DAY', 'DR1LANG', 'DS1LOC', 'DSDSUPID', 'DSDSUPP', 'DS1MTCH',\n",
       "       'DS1ANTA', 'DS1ACTSS', 'DS1IKCAL', 'DS1IPROT', 'DS1ICARB', 'DS1ISUGR',\n",
       "       'DS1IFIBE', 'DS1ITFAT', 'DS1ISFAT', 'DS1IMFAT', 'DS1IPFAT', 'DS1ICHOL',\n",
       "       'DS1ILYCO', 'DS1ILZ', 'DS1IVB1', 'DS1IVB2', 'DS1INIAC', 'DS1IVB6',\n",
       "       'DS1IFA', 'DS1IFDFE', 'DS1ICHL', 'DS1IVB12', 'DS1IVC', 'DS1IVK',\n",
       "       'DS1IVD', 'DS1ICALC', 'DS1IPHOS', 'DS1IMAGN', 'DS1IIRON', 'DS1IZINC',\n",
       "       'DS1ICOPP', 'DS1ISODI', 'DS1IPOTA', 'DS1ISELE', 'DS1ICAFF', 'DS1IIODI'],\n",
       "      dtype='object')"
      ]
     },
     "metadata": {},
     "execution_count": 4
    }
   ],
   "source": [
    "nhanesInterviewData.columns"
   ]
  },
  {
   "cell_type": "code",
   "execution_count": 5,
   "metadata": {},
   "outputs": [
    {
     "output_type": "execute_result",
     "data": {
      "text/plain": [
       "Index(['DSDPID', 'DSDGENRC', 'DSDSUPP', 'DSDSRCE', 'DSDTYPE', 'DSDSERVQ',\n",
       "       'DSDSERVU', 'DSDCNTV', 'DSDCNTM', 'DSDCNTA', 'DSDCNTB', 'DSDCNTO',\n",
       "       'DSDSUPID'],\n",
       "      dtype='object')"
      ]
     },
     "metadata": {},
     "execution_count": 5
    }
   ],
   "source": [
    "nhanesProductData.columns"
   ]
  },
  {
   "source": [
    "### The column 'DSDSUPID' indicates the supplementID. This can be used for joining the interview data with the product and ingredient information"
   ],
   "cell_type": "markdown",
   "metadata": {}
  },
  {
   "cell_type": "code",
   "execution_count": null,
   "metadata": {},
   "outputs": [],
   "source": [
    "## List of Supplement IDs where the supplement name contains 'cranberry'"
   ]
  },
  {
   "cell_type": "code",
   "execution_count": 6,
   "metadata": {},
   "outputs": [],
   "source": [
    "cranberrySuppID = nhanesProductData['DSDSUPID'][nhanesProductData['DSDSUPP'].str.contains('CRANBERRY')]"
   ]
  },
  {
   "cell_type": "code",
   "execution_count": 8,
   "metadata": {},
   "outputs": [
    {
     "output_type": "execute_result",
     "data": {
      "text/plain": [
       "(112,)"
      ]
     },
     "metadata": {},
     "execution_count": 8
    }
   ],
   "source": [
    "cranberrySuppID.shape  ## Total of 112 unique supplements"
   ]
  },
  {
   "cell_type": "code",
   "execution_count": 9,
   "metadata": {},
   "outputs": [],
   "source": [
    "## Search for this list in the 1st day interview data"
   ]
  },
  {
   "cell_type": "code",
   "execution_count": 10,
   "metadata": {},
   "outputs": [],
   "source": [
    "interviewCranberryProd = nhanesInterviewData[nhanesInterviewData['DSDSUPID'].isin(cranberrySuppID)]"
   ]
  },
  {
   "cell_type": "code",
   "execution_count": 12,
   "metadata": {},
   "outputs": [
    {
     "output_type": "execute_result",
     "data": {
      "text/plain": [
       "(27, 49)"
      ]
     },
     "metadata": {},
     "execution_count": 12
    }
   ],
   "source": [
    "interviewCranberryProd.shape  ## total of 27 observations (could be same product repeated multiple times) in 2017-18 which have a cranberry in their name"
   ]
  },
  {
   "source": [
    "## Product info about these 27 products"
   ],
   "cell_type": "markdown",
   "metadata": {}
  },
  {
   "cell_type": "code",
   "execution_count": 13,
   "metadata": {},
   "outputs": [],
   "source": [
    "cranberry17ProdInfo = nhanesProductData[nhanesProductData['DSDSUPID'].isin(interviewCranberryProd['DSDSUPID'])]"
   ]
  },
  {
   "cell_type": "code",
   "execution_count": 14,
   "metadata": {},
   "outputs": [
    {
     "output_type": "execute_result",
     "data": {
      "text/plain": [
       "(14, 13)"
      ]
     },
     "metadata": {},
     "execution_count": 14
    }
   ],
   "source": [
    "cranberry17ProdInfo.shape  ## total of 14 unique cranberry supplements"
   ]
  },
  {
   "cell_type": "code",
   "execution_count": 151,
   "metadata": {},
   "outputs": [
    {
     "output_type": "execute_result",
     "data": {
      "text/plain": [
       "         DSDSUPID                                            DSDSUPP\n",
       "4586   1888214002                                  DEFAULT CRANBERRY\n",
       "9594   1000548901  TRUNATURE CRANBERRY ANTIOXIDANT ACTIVITY WITH ...\n",
       "9888   1000959100  NATURE'S BOUNTY CRANBERRY FRUIT 4200 MG EQUIVA...\n",
       "12458  1001153800  AZO CRANBERRY 25,000 MG CRANBERRY FRUIT EQUIVA...\n",
       "12514  1001155000  SPRING VALLEY STANDARDIZED EXTRACT CRANBERRY 5...\n",
       "12606  1001155600  SPRING VALLEY STANDARDIZED EXTRACT CRANBERRY 5...\n",
       "13157  1000924401  PURITAN'S PRIDE CRANBERRY FRUIT CONCENTRATE 42...\n",
       "13715  1001227500  THERALOGIX THERACRAN HP CRANBERRY STANDARDIZED...\n",
       "13766  1001066301  CVS HEALTH CRANBERRY 4200 MG EQUIVALENT PER SO...\n",
       "13771  1001231500  PURITAN'S PRIDE NATURAL CRANBERRY FRUIT CONCEN...\n",
       "13814  1001234400  SPRING VALLEY STANDARDIZED EXTRACT CRANBERRY 8...\n",
       "13941  1001243900  GARDEN OF LIFE DR. FORMULATED PROBIOTICS URINA...\n",
       "14443  1001283500  CLEARTRACT URINARY TRACT FORMULA POTENT CRANBE...\n",
       "14471  1881285500                                   CRANBERRY 500 MG"
      ],
      "text/html": "<div>\n<style scoped>\n    .dataframe tbody tr th:only-of-type {\n        vertical-align: middle;\n    }\n\n    .dataframe tbody tr th {\n        vertical-align: top;\n    }\n\n    .dataframe thead th {\n        text-align: right;\n    }\n</style>\n<table border=\"1\" class=\"dataframe\">\n  <thead>\n    <tr style=\"text-align: right;\">\n      <th></th>\n      <th>DSDSUPID</th>\n      <th>DSDSUPP</th>\n    </tr>\n  </thead>\n  <tbody>\n    <tr>\n      <th>4586</th>\n      <td>1888214002</td>\n      <td>DEFAULT CRANBERRY</td>\n    </tr>\n    <tr>\n      <th>9594</th>\n      <td>1000548901</td>\n      <td>TRUNATURE CRANBERRY ANTIOXIDANT ACTIVITY WITH ...</td>\n    </tr>\n    <tr>\n      <th>9888</th>\n      <td>1000959100</td>\n      <td>NATURE'S BOUNTY CRANBERRY FRUIT 4200 MG EQUIVA...</td>\n    </tr>\n    <tr>\n      <th>12458</th>\n      <td>1001153800</td>\n      <td>AZO CRANBERRY 25,000 MG CRANBERRY FRUIT EQUIVA...</td>\n    </tr>\n    <tr>\n      <th>12514</th>\n      <td>1001155000</td>\n      <td>SPRING VALLEY STANDARDIZED EXTRACT CRANBERRY 5...</td>\n    </tr>\n    <tr>\n      <th>12606</th>\n      <td>1001155600</td>\n      <td>SPRING VALLEY STANDARDIZED EXTRACT CRANBERRY 5...</td>\n    </tr>\n    <tr>\n      <th>13157</th>\n      <td>1000924401</td>\n      <td>PURITAN'S PRIDE CRANBERRY FRUIT CONCENTRATE 42...</td>\n    </tr>\n    <tr>\n      <th>13715</th>\n      <td>1001227500</td>\n      <td>THERALOGIX THERACRAN HP CRANBERRY STANDARDIZED...</td>\n    </tr>\n    <tr>\n      <th>13766</th>\n      <td>1001066301</td>\n      <td>CVS HEALTH CRANBERRY 4200 MG EQUIVALENT PER SO...</td>\n    </tr>\n    <tr>\n      <th>13771</th>\n      <td>1001231500</td>\n      <td>PURITAN'S PRIDE NATURAL CRANBERRY FRUIT CONCEN...</td>\n    </tr>\n    <tr>\n      <th>13814</th>\n      <td>1001234400</td>\n      <td>SPRING VALLEY STANDARDIZED EXTRACT CRANBERRY 8...</td>\n    </tr>\n    <tr>\n      <th>13941</th>\n      <td>1001243900</td>\n      <td>GARDEN OF LIFE DR. FORMULATED PROBIOTICS URINA...</td>\n    </tr>\n    <tr>\n      <th>14443</th>\n      <td>1001283500</td>\n      <td>CLEARTRACT URINARY TRACT FORMULA POTENT CRANBE...</td>\n    </tr>\n    <tr>\n      <th>14471</th>\n      <td>1881285500</td>\n      <td>CRANBERRY 500 MG</td>\n    </tr>\n  </tbody>\n</table>\n</div>"
     },
     "metadata": {},
     "execution_count": 151
    }
   ],
   "source": [
    "cranberry17ProdInfo[['DSDSUPID','DSDSUPP']]  ## Generally, the first 2 words are the brand name"
   ]
  },
  {
   "cell_type": "code",
   "execution_count": 126,
   "metadata": {},
   "outputs": [],
   "source": [
    "cranberry17ProdInfo['BRAND_NAME'] = cranberry17ProdInfo['DSDSUPP'].str.replace(\"'\", \"\")"
   ]
  },
  {
   "cell_type": "code",
   "execution_count": 128,
   "metadata": {},
   "outputs": [],
   "source": [
    "cranberry17ProdInfo['BRAND_NAME'] = cranberry17ProdInfo['BRAND_NAME'].str.extract(\"(\\\\w+\\\\s\\\\w+)\")"
   ]
  },
  {
   "cell_type": "code",
   "execution_count": 129,
   "metadata": {},
   "outputs": [
    {
     "output_type": "execute_result",
     "data": {
      "text/plain": [
       "4586        DEFAULT CRANBERRY\n",
       "9594      TRUNATURE CRANBERRY\n",
       "9888           NATURES BOUNTY\n",
       "12458           AZO CRANBERRY\n",
       "12514           SPRING VALLEY\n",
       "12606           SPRING VALLEY\n",
       "13157          PURITANS PRIDE\n",
       "13715    THERALOGIX THERACRAN\n",
       "13766              CVS HEALTH\n",
       "13771          PURITANS PRIDE\n",
       "13814           SPRING VALLEY\n",
       "13941               GARDEN OF\n",
       "14443      CLEARTRACT URINARY\n",
       "14471           CRANBERRY 500\n",
       "Name: BRAND_NAME, dtype: object"
      ]
     },
     "metadata": {},
     "execution_count": 129
    }
   ],
   "source": [
    "cranberry17ProdInfo['BRAND_NAME']"
   ]
  },
  {
   "cell_type": "code",
   "execution_count": 130,
   "metadata": {},
   "outputs": [
    {
     "output_type": "execute_result",
     "data": {
      "text/plain": [
       "Index(['DSDPID', 'DSDGENRC', 'DSDSUPP', 'DSDSRCE', 'DSDTYPE', 'DSDSERVQ',\n",
       "       'DSDSERVU', 'DSDCNTV', 'DSDCNTM', 'DSDCNTA', 'DSDCNTB', 'DSDCNTO',\n",
       "       'DSDSUPID', 'BRAND_NAME'],\n",
       "      dtype='object')"
      ]
     },
     "metadata": {},
     "execution_count": 130
    }
   ],
   "source": [
    "cranberry17ProdInfo.columns"
   ]
  },
  {
   "cell_type": "code",
   "execution_count": 132,
   "metadata": {},
   "outputs": [],
   "source": [
    "cranberry17ProdInfo['DSDSUPID'] = cranberry17ProdInfo['DSDSUPID'].astype('int64')\n",
    "interviewCranberryProd['DSDSUPID'] = interviewCranberryProd['DSDSUPID'].astype('int64')"
   ]
  },
  {
   "cell_type": "code",
   "execution_count": 170,
   "metadata": {},
   "outputs": [],
   "source": [
    "cranberry17InterviewProd = cranberry17ProdInfo.join(interviewCranberryProd.filter(['SEQN', 'WTDRD1', 'DSDSUPID']).set_index('DSDSUPID'), on='DSDSUPID', how = 'inner', lsuffix='prod')"
   ]
  },
  {
   "cell_type": "code",
   "execution_count": 172,
   "metadata": {},
   "outputs": [
    {
     "output_type": "execute_result",
     "data": {
      "text/plain": [
       "      DSDPID  DSDGENRC            DSDSUPP  DSDSRCE  DSDTYPE  DSDSERVQ  \\\n",
       "4586  6386.0       NaN  DEFAULT CRANBERRY      NaN      4.0       1.0   \n",
       "4586  6386.0       NaN  DEFAULT CRANBERRY      NaN      4.0       1.0   \n",
       "4586  6386.0       NaN  DEFAULT CRANBERRY      NaN      4.0       1.0   \n",
       "4586  6386.0       NaN  DEFAULT CRANBERRY      NaN      4.0       1.0   \n",
       "4586  6386.0       NaN  DEFAULT CRANBERRY      NaN      4.0       1.0   \n",
       "\n",
       "      DSDSERVU       DSDCNTV       DSDCNTM       DSDCNTA  DSDCNTB  \\\n",
       "4586      18.0  5.397605e-79  5.397605e-79  5.397605e-79      1.0   \n",
       "4586      18.0  5.397605e-79  5.397605e-79  5.397605e-79      1.0   \n",
       "4586      18.0  5.397605e-79  5.397605e-79  5.397605e-79      1.0   \n",
       "4586      18.0  5.397605e-79  5.397605e-79  5.397605e-79      1.0   \n",
       "4586      18.0  5.397605e-79  5.397605e-79  5.397605e-79      1.0   \n",
       "\n",
       "           DSDCNTO    DSDSUPID         BRAND_NAME     SEQN         WTDRD1  \n",
       "4586  5.397605e-79  1888214002  DEFAULT CRANBERRY  84125.0   70444.394060  \n",
       "4586  5.397605e-79  1888214002  DEFAULT CRANBERRY  87511.0  204758.713565  \n",
       "4586  5.397605e-79  1888214002  DEFAULT CRANBERRY  88731.0   15634.728495  \n",
       "4586  5.397605e-79  1888214002  DEFAULT CRANBERRY  90908.0   10041.566279  \n",
       "4586  5.397605e-79  1888214002  DEFAULT CRANBERRY  90922.0   19227.490463  "
      ],
      "text/html": "<div>\n<style scoped>\n    .dataframe tbody tr th:only-of-type {\n        vertical-align: middle;\n    }\n\n    .dataframe tbody tr th {\n        vertical-align: top;\n    }\n\n    .dataframe thead th {\n        text-align: right;\n    }\n</style>\n<table border=\"1\" class=\"dataframe\">\n  <thead>\n    <tr style=\"text-align: right;\">\n      <th></th>\n      <th>DSDPID</th>\n      <th>DSDGENRC</th>\n      <th>DSDSUPP</th>\n      <th>DSDSRCE</th>\n      <th>DSDTYPE</th>\n      <th>DSDSERVQ</th>\n      <th>DSDSERVU</th>\n      <th>DSDCNTV</th>\n      <th>DSDCNTM</th>\n      <th>DSDCNTA</th>\n      <th>DSDCNTB</th>\n      <th>DSDCNTO</th>\n      <th>DSDSUPID</th>\n      <th>BRAND_NAME</th>\n      <th>SEQN</th>\n      <th>WTDRD1</th>\n    </tr>\n  </thead>\n  <tbody>\n    <tr>\n      <th>4586</th>\n      <td>6386.0</td>\n      <td>NaN</td>\n      <td>DEFAULT CRANBERRY</td>\n      <td>NaN</td>\n      <td>4.0</td>\n      <td>1.0</td>\n      <td>18.0</td>\n      <td>5.397605e-79</td>\n      <td>5.397605e-79</td>\n      <td>5.397605e-79</td>\n      <td>1.0</td>\n      <td>5.397605e-79</td>\n      <td>1888214002</td>\n      <td>DEFAULT CRANBERRY</td>\n      <td>84125.0</td>\n      <td>70444.394060</td>\n    </tr>\n    <tr>\n      <th>4586</th>\n      <td>6386.0</td>\n      <td>NaN</td>\n      <td>DEFAULT CRANBERRY</td>\n      <td>NaN</td>\n      <td>4.0</td>\n      <td>1.0</td>\n      <td>18.0</td>\n      <td>5.397605e-79</td>\n      <td>5.397605e-79</td>\n      <td>5.397605e-79</td>\n      <td>1.0</td>\n      <td>5.397605e-79</td>\n      <td>1888214002</td>\n      <td>DEFAULT CRANBERRY</td>\n      <td>87511.0</td>\n      <td>204758.713565</td>\n    </tr>\n    <tr>\n      <th>4586</th>\n      <td>6386.0</td>\n      <td>NaN</td>\n      <td>DEFAULT CRANBERRY</td>\n      <td>NaN</td>\n      <td>4.0</td>\n      <td>1.0</td>\n      <td>18.0</td>\n      <td>5.397605e-79</td>\n      <td>5.397605e-79</td>\n      <td>5.397605e-79</td>\n      <td>1.0</td>\n      <td>5.397605e-79</td>\n      <td>1888214002</td>\n      <td>DEFAULT CRANBERRY</td>\n      <td>88731.0</td>\n      <td>15634.728495</td>\n    </tr>\n    <tr>\n      <th>4586</th>\n      <td>6386.0</td>\n      <td>NaN</td>\n      <td>DEFAULT CRANBERRY</td>\n      <td>NaN</td>\n      <td>4.0</td>\n      <td>1.0</td>\n      <td>18.0</td>\n      <td>5.397605e-79</td>\n      <td>5.397605e-79</td>\n      <td>5.397605e-79</td>\n      <td>1.0</td>\n      <td>5.397605e-79</td>\n      <td>1888214002</td>\n      <td>DEFAULT CRANBERRY</td>\n      <td>90908.0</td>\n      <td>10041.566279</td>\n    </tr>\n    <tr>\n      <th>4586</th>\n      <td>6386.0</td>\n      <td>NaN</td>\n      <td>DEFAULT CRANBERRY</td>\n      <td>NaN</td>\n      <td>4.0</td>\n      <td>1.0</td>\n      <td>18.0</td>\n      <td>5.397605e-79</td>\n      <td>5.397605e-79</td>\n      <td>5.397605e-79</td>\n      <td>1.0</td>\n      <td>5.397605e-79</td>\n      <td>1888214002</td>\n      <td>DEFAULT CRANBERRY</td>\n      <td>90922.0</td>\n      <td>19227.490463</td>\n    </tr>\n  </tbody>\n</table>\n</div>"
     },
     "metadata": {},
     "execution_count": 172
    }
   ],
   "source": [
    "cranberry17InterviewProd.head()"
   ]
  },
  {
   "cell_type": "code",
   "execution_count": 153,
   "metadata": {},
   "outputs": [
    {
     "output_type": "execute_result",
     "data": {
      "text/plain": [
       "Empty DataFrame\n",
       "Columns: [DSDPID, DSDGENRC, DSDSUPP, DSDSRCE, DSDTYPE, DSDSERVQ, DSDSERVU, DSDCNTV, DSDCNTM, DSDCNTA, DSDCNTB, DSDCNTO, DSDSUPIDprod, BRAND_NAME, SEQN, WTDRD1, DSDSUPID]\n",
       "Index: []"
      ],
      "text/html": "<div>\n<style scoped>\n    .dataframe tbody tr th:only-of-type {\n        vertical-align: middle;\n    }\n\n    .dataframe tbody tr th {\n        vertical-align: top;\n    }\n\n    .dataframe thead th {\n        text-align: right;\n    }\n</style>\n<table border=\"1\" class=\"dataframe\">\n  <thead>\n    <tr style=\"text-align: right;\">\n      <th></th>\n      <th>DSDPID</th>\n      <th>DSDGENRC</th>\n      <th>DSDSUPP</th>\n      <th>DSDSRCE</th>\n      <th>DSDTYPE</th>\n      <th>DSDSERVQ</th>\n      <th>DSDSERVU</th>\n      <th>DSDCNTV</th>\n      <th>DSDCNTM</th>\n      <th>DSDCNTA</th>\n      <th>DSDCNTB</th>\n      <th>DSDCNTO</th>\n      <th>DSDSUPIDprod</th>\n      <th>BRAND_NAME</th>\n      <th>SEQN</th>\n      <th>WTDRD1</th>\n      <th>DSDSUPID</th>\n    </tr>\n  </thead>\n  <tbody>\n  </tbody>\n</table>\n</div>"
     },
     "metadata": {},
     "execution_count": 153
    }
   ],
   "source": [
    "cranberry17InterviewProd[cranberry17InterviewProd['DSDSUPID'] == 1000548901]"
   ]
  },
  {
   "cell_type": "code",
   "execution_count": null,
   "metadata": {},
   "outputs": [],
   "source": []
  }
 ]
}