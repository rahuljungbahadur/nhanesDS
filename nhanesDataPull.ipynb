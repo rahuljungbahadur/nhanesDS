{
 "metadata": {
  "language_info": {
   "codemirror_mode": {
    "name": "ipython",
    "version": 3
   },
   "file_extension": ".py",
   "mimetype": "text/x-python",
   "name": "python",
   "nbconvert_exporter": "python",
   "pygments_lexer": "ipython3",
   "version": "3.8.5-final"
  },
  "orig_nbformat": 2,
  "kernelspec": {
   "name": "python3",
   "display_name": "Python 3"
  }
 },
 "nbformat": 4,
 "nbformat_minor": 2,
 "cells": [
  {
   "cell_type": "code",
   "execution_count": 1,
   "metadata": {},
   "outputs": [],
   "source": [
    "import pandas as pd\n",
    "import re"
   ]
  },
  {
   "cell_type": "code",
   "execution_count": 3,
   "metadata": {},
   "outputs": [],
   "source": [
    "nhanesInterviewData = pd.read_sas(\"https://wwwn.cdc.gov/Nchs/Nhanes/2015-2016/DS1IDS_I.XPT\", format = 'XPORT', encoding='iso-8859-1')\n",
    "nhanesProductData = pd.read_sas(\"https://wwwn.cdc.gov/Nchs/Nhanes/1999-2000/DSPI.XPT\", format = 'XPORT', encoding='iso-8859-1')\n",
    "nhanesIngredientInfo = pd.read_sas(\"https://wwwn.cdc.gov/Nchs/Nhanes/1999-2000/DSII.XPT\", format= 'XPORT', encoding = 'iso-8859-1')"
   ]
  },
  {
   "cell_type": "code",
   "execution_count": 4,
   "metadata": {},
   "outputs": [
    {
     "output_type": "execute_result",
     "data": {
      "text/plain": [
       "Index(['SEQN', 'WTDRD1', 'WTDR2D', 'DR1DRSTZ', 'DR1EXMER', 'DRDINT', 'DR1DBIH',\n",
       "       'DR1DAY', 'DR1LANG', 'DS1LOC', 'DSDSUPID', 'DSDSUPP', 'DS1MTCH',\n",
       "       'DS1ANTA', 'DS1ACTSS', 'DS1IKCAL', 'DS1IPROT', 'DS1ICARB', 'DS1ISUGR',\n",
       "       'DS1IFIBE', 'DS1ITFAT', 'DS1ISFAT', 'DS1IMFAT', 'DS1IPFAT', 'DS1ICHOL',\n",
       "       'DS1ILYCO', 'DS1ILZ', 'DS1IVB1', 'DS1IVB2', 'DS1INIAC', 'DS1IVB6',\n",
       "       'DS1IFA', 'DS1IFDFE', 'DS1ICHL', 'DS1IVB12', 'DS1IVC', 'DS1IVK',\n",
       "       'DS1IVD', 'DS1ICALC', 'DS1IPHOS', 'DS1IMAGN', 'DS1IIRON', 'DS1IZINC',\n",
       "       'DS1ICOPP', 'DS1ISODI', 'DS1IPOTA', 'DS1ISELE', 'DS1ICAFF', 'DS1IIODI'],\n",
       "      dtype='object')"
      ]
     },
     "metadata": {},
     "execution_count": 4
    }
   ],
   "source": [
    "nhanesInterviewData.columns"
   ]
  },
  {
   "cell_type": "code",
   "execution_count": 207,
   "metadata": {},
   "outputs": [
    {
     "output_type": "execute_result",
     "data": {
      "text/plain": [
       "Index(['DSDPID', 'DSDSUPP', 'DSDIID', 'DSDINGR', 'DSDOPER', 'DSDQTY',\n",
       "       'DSDUNIT', 'DSDCAT', 'DSDBLFLG', 'DSDINGID'],\n",
       "      dtype='object')"
      ]
     },
     "metadata": {},
     "execution_count": 207
    }
   ],
   "source": [
    "nhanesIngredientInfo.columns"
   ]
  },
  {
   "source": [
    "### The column 'DSDSUPID' indicates the supplementID. This can be used for joining the interview data with the product and ingredient information"
   ],
   "cell_type": "markdown",
   "metadata": {}
  },
  {
   "cell_type": "code",
   "execution_count": null,
   "metadata": {},
   "outputs": [],
   "source": [
    "## List of Supplement IDs where the supplement name contains 'cranberry'"
   ]
  },
  {
   "cell_type": "code",
   "execution_count": 6,
   "metadata": {},
   "outputs": [],
   "source": [
    "cranberrySuppID = nhanesProductData['DSDSUPID'][nhanesProductData['DSDSUPP'].str.contains('CRANBERRY')]"
   ]
  },
  {
   "cell_type": "code",
   "execution_count": 8,
   "metadata": {},
   "outputs": [
    {
     "output_type": "execute_result",
     "data": {
      "text/plain": [
       "(112,)"
      ]
     },
     "metadata": {},
     "execution_count": 8
    }
   ],
   "source": [
    "cranberrySuppID.shape  ## Total of 112 unique supplements"
   ]
  },
  {
   "cell_type": "code",
   "execution_count": 9,
   "metadata": {},
   "outputs": [],
   "source": [
    "## Search for this list in the 1st day interview data"
   ]
  },
  {
   "cell_type": "code",
   "execution_count": 10,
   "metadata": {},
   "outputs": [],
   "source": [
    "interviewCranberryProd = nhanesInterviewData[nhanesInterviewData['DSDSUPID'].isin(cranberrySuppID)]"
   ]
  },
  {
   "cell_type": "code",
   "execution_count": 12,
   "metadata": {},
   "outputs": [
    {
     "output_type": "execute_result",
     "data": {
      "text/plain": [
       "(27, 49)"
      ]
     },
     "metadata": {},
     "execution_count": 12
    }
   ],
   "source": [
    "interviewCranberryProd.shape  ## total of 27 observations (could be same product repeated multiple times) in 2017-18 which have a cranberry in their name"
   ]
  },
  {
   "source": [
    "## Product info about these 27 products"
   ],
   "cell_type": "markdown",
   "metadata": {}
  },
  {
   "cell_type": "code",
   "execution_count": 13,
   "metadata": {},
   "outputs": [],
   "source": [
    "cranberry17ProdInfo = nhanesProductData[nhanesProductData['DSDSUPID'].isin(interviewCranberryProd['DSDSUPID'])]"
   ]
  },
  {
   "cell_type": "code",
   "execution_count": 14,
   "metadata": {},
   "outputs": [
    {
     "output_type": "execute_result",
     "data": {
      "text/plain": [
       "(14, 13)"
      ]
     },
     "metadata": {},
     "execution_count": 14
    }
   ],
   "source": [
    "cranberry17ProdInfo.shape  ## total of 14 unique cranberry supplements"
   ]
  },
  {
   "cell_type": "code",
   "execution_count": 151,
   "metadata": {},
   "outputs": [
    {
     "output_type": "execute_result",
     "data": {
      "text/plain": [
       "         DSDSUPID                                            DSDSUPP\n",
       "4586   1888214002                                  DEFAULT CRANBERRY\n",
       "9594   1000548901  TRUNATURE CRANBERRY ANTIOXIDANT ACTIVITY WITH ...\n",
       "9888   1000959100  NATURE'S BOUNTY CRANBERRY FRUIT 4200 MG EQUIVA...\n",
       "12458  1001153800  AZO CRANBERRY 25,000 MG CRANBERRY FRUIT EQUIVA...\n",
       "12514  1001155000  SPRING VALLEY STANDARDIZED EXTRACT CRANBERRY 5...\n",
       "12606  1001155600  SPRING VALLEY STANDARDIZED EXTRACT CRANBERRY 5...\n",
       "13157  1000924401  PURITAN'S PRIDE CRANBERRY FRUIT CONCENTRATE 42...\n",
       "13715  1001227500  THERALOGIX THERACRAN HP CRANBERRY STANDARDIZED...\n",
       "13766  1001066301  CVS HEALTH CRANBERRY 4200 MG EQUIVALENT PER SO...\n",
       "13771  1001231500  PURITAN'S PRIDE NATURAL CRANBERRY FRUIT CONCEN...\n",
       "13814  1001234400  SPRING VALLEY STANDARDIZED EXTRACT CRANBERRY 8...\n",
       "13941  1001243900  GARDEN OF LIFE DR. FORMULATED PROBIOTICS URINA...\n",
       "14443  1001283500  CLEARTRACT URINARY TRACT FORMULA POTENT CRANBE...\n",
       "14471  1881285500                                   CRANBERRY 500 MG"
      ],
      "text/html": "<div>\n<style scoped>\n    .dataframe tbody tr th:only-of-type {\n        vertical-align: middle;\n    }\n\n    .dataframe tbody tr th {\n        vertical-align: top;\n    }\n\n    .dataframe thead th {\n        text-align: right;\n    }\n</style>\n<table border=\"1\" class=\"dataframe\">\n  <thead>\n    <tr style=\"text-align: right;\">\n      <th></th>\n      <th>DSDSUPID</th>\n      <th>DSDSUPP</th>\n    </tr>\n  </thead>\n  <tbody>\n    <tr>\n      <th>4586</th>\n      <td>1888214002</td>\n      <td>DEFAULT CRANBERRY</td>\n    </tr>\n    <tr>\n      <th>9594</th>\n      <td>1000548901</td>\n      <td>TRUNATURE CRANBERRY ANTIOXIDANT ACTIVITY WITH ...</td>\n    </tr>\n    <tr>\n      <th>9888</th>\n      <td>1000959100</td>\n      <td>NATURE'S BOUNTY CRANBERRY FRUIT 4200 MG EQUIVA...</td>\n    </tr>\n    <tr>\n      <th>12458</th>\n      <td>1001153800</td>\n      <td>AZO CRANBERRY 25,000 MG CRANBERRY FRUIT EQUIVA...</td>\n    </tr>\n    <tr>\n      <th>12514</th>\n      <td>1001155000</td>\n      <td>SPRING VALLEY STANDARDIZED EXTRACT CRANBERRY 5...</td>\n    </tr>\n    <tr>\n      <th>12606</th>\n      <td>1001155600</td>\n      <td>SPRING VALLEY STANDARDIZED EXTRACT CRANBERRY 5...</td>\n    </tr>\n    <tr>\n      <th>13157</th>\n      <td>1000924401</td>\n      <td>PURITAN'S PRIDE CRANBERRY FRUIT CONCENTRATE 42...</td>\n    </tr>\n    <tr>\n      <th>13715</th>\n      <td>1001227500</td>\n      <td>THERALOGIX THERACRAN HP CRANBERRY STANDARDIZED...</td>\n    </tr>\n    <tr>\n      <th>13766</th>\n      <td>1001066301</td>\n      <td>CVS HEALTH CRANBERRY 4200 MG EQUIVALENT PER SO...</td>\n    </tr>\n    <tr>\n      <th>13771</th>\n      <td>1001231500</td>\n      <td>PURITAN'S PRIDE NATURAL CRANBERRY FRUIT CONCEN...</td>\n    </tr>\n    <tr>\n      <th>13814</th>\n      <td>1001234400</td>\n      <td>SPRING VALLEY STANDARDIZED EXTRACT CRANBERRY 8...</td>\n    </tr>\n    <tr>\n      <th>13941</th>\n      <td>1001243900</td>\n      <td>GARDEN OF LIFE DR. FORMULATED PROBIOTICS URINA...</td>\n    </tr>\n    <tr>\n      <th>14443</th>\n      <td>1001283500</td>\n      <td>CLEARTRACT URINARY TRACT FORMULA POTENT CRANBE...</td>\n    </tr>\n    <tr>\n      <th>14471</th>\n      <td>1881285500</td>\n      <td>CRANBERRY 500 MG</td>\n    </tr>\n  </tbody>\n</table>\n</div>"
     },
     "metadata": {},
     "execution_count": 151
    }
   ],
   "source": [
    "cranberry17ProdInfo[['DSDSUPID','DSDSUPP']]  ## Generally, the first 2 words are the brand name"
   ]
  },
  {
   "cell_type": "code",
   "execution_count": 126,
   "metadata": {},
   "outputs": [],
   "source": [
    "cranberry17ProdInfo['BRAND_NAME'] = cranberry17ProdInfo['DSDSUPP'].str.replace(\"'\", \"\")"
   ]
  },
  {
   "cell_type": "code",
   "execution_count": 128,
   "metadata": {},
   "outputs": [],
   "source": [
    "cranberry17ProdInfo['BRAND_NAME'] = cranberry17ProdInfo['BRAND_NAME'].str.extract(\"(\\\\w+\\\\s\\\\w+)\")"
   ]
  },
  {
   "cell_type": "code",
   "execution_count": 129,
   "metadata": {},
   "outputs": [
    {
     "output_type": "execute_result",
     "data": {
      "text/plain": [
       "4586        DEFAULT CRANBERRY\n",
       "9594      TRUNATURE CRANBERRY\n",
       "9888           NATURES BOUNTY\n",
       "12458           AZO CRANBERRY\n",
       "12514           SPRING VALLEY\n",
       "12606           SPRING VALLEY\n",
       "13157          PURITANS PRIDE\n",
       "13715    THERALOGIX THERACRAN\n",
       "13766              CVS HEALTH\n",
       "13771          PURITANS PRIDE\n",
       "13814           SPRING VALLEY\n",
       "13941               GARDEN OF\n",
       "14443      CLEARTRACT URINARY\n",
       "14471           CRANBERRY 500\n",
       "Name: BRAND_NAME, dtype: object"
      ]
     },
     "metadata": {},
     "execution_count": 129
    }
   ],
   "source": [
    "cranberry17ProdInfo['BRAND_NAME']"
   ]
  },
  {
   "cell_type": "code",
   "execution_count": 130,
   "metadata": {},
   "outputs": [
    {
     "output_type": "execute_result",
     "data": {
      "text/plain": [
       "Index(['DSDPID', 'DSDGENRC', 'DSDSUPP', 'DSDSRCE', 'DSDTYPE', 'DSDSERVQ',\n",
       "       'DSDSERVU', 'DSDCNTV', 'DSDCNTM', 'DSDCNTA', 'DSDCNTB', 'DSDCNTO',\n",
       "       'DSDSUPID', 'BRAND_NAME'],\n",
       "      dtype='object')"
      ]
     },
     "metadata": {},
     "execution_count": 130
    }
   ],
   "source": [
    "cranberry17ProdInfo.columns"
   ]
  },
  {
   "cell_type": "code",
   "execution_count": 132,
   "metadata": {},
   "outputs": [],
   "source": [
    "cranberry17ProdInfo['DSDSUPID'] = cranberry17ProdInfo['DSDSUPID'].astype('int64')\n",
    "interviewCranberryProd['DSDSUPID'] = interviewCranberryProd['DSDSUPID'].astype('int64')"
   ]
  },
  {
   "cell_type": "code",
   "execution_count": 208,
   "metadata": {},
   "outputs": [],
   "source": [
    "cranberry17InterviewProd = cranberry17ProdInfo.join(interviewCranberryProd.filter(['SEQN', 'WTDRD1', 'DSDSUPID', 'DSDPID']).set_index('DSDSUPID'), on='DSDSUPID', how = 'inner', lsuffix='prod')"
   ]
  },
  {
   "cell_type": "code",
   "execution_count": 209,
   "metadata": {},
   "outputs": [
    {
     "output_type": "execute_result",
     "data": {
      "text/plain": [
       "      DSDPID  DSDGENRC            DSDSUPP  DSDSRCE  DSDTYPE  DSDSERVQ  \\\n",
       "4586  6386.0       NaN  DEFAULT CRANBERRY      NaN      4.0       1.0   \n",
       "4586  6386.0       NaN  DEFAULT CRANBERRY      NaN      4.0       1.0   \n",
       "4586  6386.0       NaN  DEFAULT CRANBERRY      NaN      4.0       1.0   \n",
       "4586  6386.0       NaN  DEFAULT CRANBERRY      NaN      4.0       1.0   \n",
       "4586  6386.0       NaN  DEFAULT CRANBERRY      NaN      4.0       1.0   \n",
       "\n",
       "      DSDSERVU       DSDCNTV       DSDCNTM       DSDCNTA  DSDCNTB  \\\n",
       "4586      18.0  5.397605e-79  5.397605e-79  5.397605e-79      1.0   \n",
       "4586      18.0  5.397605e-79  5.397605e-79  5.397605e-79      1.0   \n",
       "4586      18.0  5.397605e-79  5.397605e-79  5.397605e-79      1.0   \n",
       "4586      18.0  5.397605e-79  5.397605e-79  5.397605e-79      1.0   \n",
       "4586      18.0  5.397605e-79  5.397605e-79  5.397605e-79      1.0   \n",
       "\n",
       "           DSDCNTO    DSDSUPID         BRAND_NAME     SEQN         WTDRD1  \n",
       "4586  5.397605e-79  1888214002  DEFAULT CRANBERRY  84125.0   70444.394060  \n",
       "4586  5.397605e-79  1888214002  DEFAULT CRANBERRY  87511.0  204758.713565  \n",
       "4586  5.397605e-79  1888214002  DEFAULT CRANBERRY  88731.0   15634.728495  \n",
       "4586  5.397605e-79  1888214002  DEFAULT CRANBERRY  90908.0   10041.566279  \n",
       "4586  5.397605e-79  1888214002  DEFAULT CRANBERRY  90922.0   19227.490463  "
      ],
      "text/html": "<div>\n<style scoped>\n    .dataframe tbody tr th:only-of-type {\n        vertical-align: middle;\n    }\n\n    .dataframe tbody tr th {\n        vertical-align: top;\n    }\n\n    .dataframe thead th {\n        text-align: right;\n    }\n</style>\n<table border=\"1\" class=\"dataframe\">\n  <thead>\n    <tr style=\"text-align: right;\">\n      <th></th>\n      <th>DSDPID</th>\n      <th>DSDGENRC</th>\n      <th>DSDSUPP</th>\n      <th>DSDSRCE</th>\n      <th>DSDTYPE</th>\n      <th>DSDSERVQ</th>\n      <th>DSDSERVU</th>\n      <th>DSDCNTV</th>\n      <th>DSDCNTM</th>\n      <th>DSDCNTA</th>\n      <th>DSDCNTB</th>\n      <th>DSDCNTO</th>\n      <th>DSDSUPID</th>\n      <th>BRAND_NAME</th>\n      <th>SEQN</th>\n      <th>WTDRD1</th>\n    </tr>\n  </thead>\n  <tbody>\n    <tr>\n      <th>4586</th>\n      <td>6386.0</td>\n      <td>NaN</td>\n      <td>DEFAULT CRANBERRY</td>\n      <td>NaN</td>\n      <td>4.0</td>\n      <td>1.0</td>\n      <td>18.0</td>\n      <td>5.397605e-79</td>\n      <td>5.397605e-79</td>\n      <td>5.397605e-79</td>\n      <td>1.0</td>\n      <td>5.397605e-79</td>\n      <td>1888214002</td>\n      <td>DEFAULT CRANBERRY</td>\n      <td>84125.0</td>\n      <td>70444.394060</td>\n    </tr>\n    <tr>\n      <th>4586</th>\n      <td>6386.0</td>\n      <td>NaN</td>\n      <td>DEFAULT CRANBERRY</td>\n      <td>NaN</td>\n      <td>4.0</td>\n      <td>1.0</td>\n      <td>18.0</td>\n      <td>5.397605e-79</td>\n      <td>5.397605e-79</td>\n      <td>5.397605e-79</td>\n      <td>1.0</td>\n      <td>5.397605e-79</td>\n      <td>1888214002</td>\n      <td>DEFAULT CRANBERRY</td>\n      <td>87511.0</td>\n      <td>204758.713565</td>\n    </tr>\n    <tr>\n      <th>4586</th>\n      <td>6386.0</td>\n      <td>NaN</td>\n      <td>DEFAULT CRANBERRY</td>\n      <td>NaN</td>\n      <td>4.0</td>\n      <td>1.0</td>\n      <td>18.0</td>\n      <td>5.397605e-79</td>\n      <td>5.397605e-79</td>\n      <td>5.397605e-79</td>\n      <td>1.0</td>\n      <td>5.397605e-79</td>\n      <td>1888214002</td>\n      <td>DEFAULT CRANBERRY</td>\n      <td>88731.0</td>\n      <td>15634.728495</td>\n    </tr>\n    <tr>\n      <th>4586</th>\n      <td>6386.0</td>\n      <td>NaN</td>\n      <td>DEFAULT CRANBERRY</td>\n      <td>NaN</td>\n      <td>4.0</td>\n      <td>1.0</td>\n      <td>18.0</td>\n      <td>5.397605e-79</td>\n      <td>5.397605e-79</td>\n      <td>5.397605e-79</td>\n      <td>1.0</td>\n      <td>5.397605e-79</td>\n      <td>1888214002</td>\n      <td>DEFAULT CRANBERRY</td>\n      <td>90908.0</td>\n      <td>10041.566279</td>\n    </tr>\n    <tr>\n      <th>4586</th>\n      <td>6386.0</td>\n      <td>NaN</td>\n      <td>DEFAULT CRANBERRY</td>\n      <td>NaN</td>\n      <td>4.0</td>\n      <td>1.0</td>\n      <td>18.0</td>\n      <td>5.397605e-79</td>\n      <td>5.397605e-79</td>\n      <td>5.397605e-79</td>\n      <td>1.0</td>\n      <td>5.397605e-79</td>\n      <td>1888214002</td>\n      <td>DEFAULT CRANBERRY</td>\n      <td>90922.0</td>\n      <td>19227.490463</td>\n    </tr>\n  </tbody>\n</table>\n</div>"
     },
     "metadata": {},
     "execution_count": 209
    }
   ],
   "source": [
    "cranberry17InterviewProd.head()"
   ]
  },
  {
   "cell_type": "code",
   "execution_count": 210,
   "metadata": {},
   "outputs": [
    {
     "output_type": "execute_result",
     "data": {
      "text/plain": [
       "       DSDPID  DSDGENRC                                            DSDSUPP  \\\n",
       "9594  11990.0       NaN  TRUNATURE CRANBERRY ANTIOXIDANT ACTIVITY WITH ...   \n",
       "9594  11990.0       NaN  TRUNATURE CRANBERRY ANTIOXIDANT ACTIVITY WITH ...   \n",
       "9594  11990.0       NaN  TRUNATURE CRANBERRY ANTIOXIDANT ACTIVITY WITH ...   \n",
       "\n",
       "      DSDSRCE  DSDTYPE  DSDSERVQ  DSDSERVU       DSDCNTV       DSDCNTM  \\\n",
       "9594      9.0      4.0       1.0      16.0  5.397605e-79  5.397605e-79   \n",
       "9594      9.0      4.0       1.0      16.0  5.397605e-79  5.397605e-79   \n",
       "9594      9.0      4.0       1.0      16.0  5.397605e-79  5.397605e-79   \n",
       "\n",
       "           DSDCNTA  DSDCNTB       DSDCNTO    DSDSUPID           BRAND_NAME  \\\n",
       "9594  5.397605e-79      2.0  5.397605e-79  1000548901  TRUNATURE CRANBERRY   \n",
       "9594  5.397605e-79      2.0  5.397605e-79  1000548901  TRUNATURE CRANBERRY   \n",
       "9594  5.397605e-79      2.0  5.397605e-79  1000548901  TRUNATURE CRANBERRY   \n",
       "\n",
       "         SEQN        WTDRD1  \n",
       "9594  84637.0   8093.032435  \n",
       "9594  84691.0   5452.953601  \n",
       "9594  87497.0  15095.620978  "
      ],
      "text/html": "<div>\n<style scoped>\n    .dataframe tbody tr th:only-of-type {\n        vertical-align: middle;\n    }\n\n    .dataframe tbody tr th {\n        vertical-align: top;\n    }\n\n    .dataframe thead th {\n        text-align: right;\n    }\n</style>\n<table border=\"1\" class=\"dataframe\">\n  <thead>\n    <tr style=\"text-align: right;\">\n      <th></th>\n      <th>DSDPID</th>\n      <th>DSDGENRC</th>\n      <th>DSDSUPP</th>\n      <th>DSDSRCE</th>\n      <th>DSDTYPE</th>\n      <th>DSDSERVQ</th>\n      <th>DSDSERVU</th>\n      <th>DSDCNTV</th>\n      <th>DSDCNTM</th>\n      <th>DSDCNTA</th>\n      <th>DSDCNTB</th>\n      <th>DSDCNTO</th>\n      <th>DSDSUPID</th>\n      <th>BRAND_NAME</th>\n      <th>SEQN</th>\n      <th>WTDRD1</th>\n    </tr>\n  </thead>\n  <tbody>\n    <tr>\n      <th>9594</th>\n      <td>11990.0</td>\n      <td>NaN</td>\n      <td>TRUNATURE CRANBERRY ANTIOXIDANT ACTIVITY WITH ...</td>\n      <td>9.0</td>\n      <td>4.0</td>\n      <td>1.0</td>\n      <td>16.0</td>\n      <td>5.397605e-79</td>\n      <td>5.397605e-79</td>\n      <td>5.397605e-79</td>\n      <td>2.0</td>\n      <td>5.397605e-79</td>\n      <td>1000548901</td>\n      <td>TRUNATURE CRANBERRY</td>\n      <td>84637.0</td>\n      <td>8093.032435</td>\n    </tr>\n    <tr>\n      <th>9594</th>\n      <td>11990.0</td>\n      <td>NaN</td>\n      <td>TRUNATURE CRANBERRY ANTIOXIDANT ACTIVITY WITH ...</td>\n      <td>9.0</td>\n      <td>4.0</td>\n      <td>1.0</td>\n      <td>16.0</td>\n      <td>5.397605e-79</td>\n      <td>5.397605e-79</td>\n      <td>5.397605e-79</td>\n      <td>2.0</td>\n      <td>5.397605e-79</td>\n      <td>1000548901</td>\n      <td>TRUNATURE CRANBERRY</td>\n      <td>84691.0</td>\n      <td>5452.953601</td>\n    </tr>\n    <tr>\n      <th>9594</th>\n      <td>11990.0</td>\n      <td>NaN</td>\n      <td>TRUNATURE CRANBERRY ANTIOXIDANT ACTIVITY WITH ...</td>\n      <td>9.0</td>\n      <td>4.0</td>\n      <td>1.0</td>\n      <td>16.0</td>\n      <td>5.397605e-79</td>\n      <td>5.397605e-79</td>\n      <td>5.397605e-79</td>\n      <td>2.0</td>\n      <td>5.397605e-79</td>\n      <td>1000548901</td>\n      <td>TRUNATURE CRANBERRY</td>\n      <td>87497.0</td>\n      <td>15095.620978</td>\n    </tr>\n  </tbody>\n</table>\n</div>"
     },
     "metadata": {},
     "execution_count": 210
    }
   ],
   "source": [
    "cranberry17InterviewProd[cranberry17InterviewProd['DSDSUPID'] == 1000548901]"
   ]
  },
  {
   "cell_type": "code",
   "execution_count": 181,
   "metadata": {},
   "outputs": [],
   "source": [
    "cranberryWtSum = cranberry17InterviewProd.filter(['DSDSUPID', 'WTDRD1']).groupby('DSDSUPID').agg(sum)"
   ]
  },
  {
   "cell_type": "code",
   "execution_count": 217,
   "metadata": {},
   "outputs": [],
   "source": [
    "cranberryWtSuppName = cranberryWtSum.join(cranberry17InterviewProd.filter(['BRAND_NAME', 'DSDSUPID', 'DSDSUPP', 'DSDPID']).drop_duplicates(inplace=False).set_index('DSDSUPID'), how = 'left', on = 'DSDSUPID').reset_index(level=0, inplace=False).sort_values('WTDRD1')"
   ]
  },
  {
   "cell_type": "code",
   "execution_count": 218,
   "metadata": {},
   "outputs": [
    {
     "output_type": "execute_result",
     "data": {
      "text/plain": [
       "Index(['DSDSUPID', 'WTDRD1', 'BRAND_NAME', 'DSDSUPP', 'DSDPID'], dtype='object')"
      ]
     },
     "metadata": {},
     "execution_count": 218
    }
   ],
   "source": [
    "cranberryWtSuppName.columns"
   ]
  },
  {
   "cell_type": "code",
   "execution_count": 219,
   "metadata": {},
   "outputs": [],
   "source": [
    "cranberryWtSuppName = cranberryWtSuppName.join(nhanesIngredientInfo.set_index('DSDPID'), on = 'DSDPID', how = 'left', lsuffix='cranSupp')"
   ]
  },
  {
   "cell_type": "code",
   "execution_count": 221,
   "metadata": {},
   "outputs": [
    {
     "output_type": "execute_result",
     "data": {
      "text/plain": [
       "     DSDSUPID        WTDRD1      BRAND_NAME  \\\n",
       "5  1001155000   5417.676220   SPRING VALLEY   \n",
       "3  1001066301   9888.322728      CVS HEALTH   \n",
       "3  1001066301   9888.322728      CVS HEALTH   \n",
       "3  1001066301   9888.322728      CVS HEALTH   \n",
       "8  1001231500  21865.049936  PURITANS PRIDE   \n",
       "\n",
       "                                     DSDSUPPcranSupp   DSDPID  \\\n",
       "5  SPRING VALLEY STANDARDIZED EXTRACT CRANBERRY 5...  15346.0   \n",
       "3  CVS HEALTH CRANBERRY 4200 MG EQUIVALENT PER SO...  16731.0   \n",
       "3  CVS HEALTH CRANBERRY 4200 MG EQUIVALENT PER SO...  16731.0   \n",
       "3  CVS HEALTH CRANBERRY 4200 MG EQUIVALENT PER SO...  16731.0   \n",
       "8  PURITAN'S PRIDE NATURAL CRANBERRY FRUIT CONCEN...  16737.0   \n",
       "\n",
       "                                             DSDSUPP  DSDIID  \\\n",
       "5  SPRING VALLEY STANDARDIZED EXTRACT CRANBERRY 5...   419.0   \n",
       "3  CVS HEALTH CRANBERRY 4200 MG EQUIVALENT PER SO...   365.0   \n",
       "3  CVS HEALTH CRANBERRY 4200 MG EQUIVALENT PER SO...   694.0   \n",
       "3  CVS HEALTH CRANBERRY 4200 MG EQUIVALENT PER SO...   893.0   \n",
       "8  PURITAN'S PRIDE NATURAL CRANBERRY FRUIT CONCEN...  3013.0   \n",
       "\n",
       "                         DSDINGR DSDOPER   DSDQTY  DSDUNIT  DSDCAT  DSDBLFLG  \\\n",
       "5        CRANBERRY FRUIT EXTRACT       =    500.0      1.0     3.0       2.0   \n",
       "3                      VITAMIN E       =      6.0      2.0     1.0       2.0   \n",
       "3  CRANBERRY CONCENTRATE (FRUIT)       =    168.0      1.0     3.0       2.0   \n",
       "3                      VITAMIN C       =     40.0      1.0     1.0       2.0   \n",
       "8         CRANBERRY FRUIT POWDER       =  25000.0      1.0     3.0       2.0   \n",
       "\n",
       "   DSDINGID  \n",
       "5  10000462  \n",
       "3  10000386  \n",
       "3  10000767  \n",
       "3  10000979  \n",
       "8  10003213  "
      ],
      "text/html": "<div>\n<style scoped>\n    .dataframe tbody tr th:only-of-type {\n        vertical-align: middle;\n    }\n\n    .dataframe tbody tr th {\n        vertical-align: top;\n    }\n\n    .dataframe thead th {\n        text-align: right;\n    }\n</style>\n<table border=\"1\" class=\"dataframe\">\n  <thead>\n    <tr style=\"text-align: right;\">\n      <th></th>\n      <th>DSDSUPID</th>\n      <th>WTDRD1</th>\n      <th>BRAND_NAME</th>\n      <th>DSDSUPPcranSupp</th>\n      <th>DSDPID</th>\n      <th>DSDSUPP</th>\n      <th>DSDIID</th>\n      <th>DSDINGR</th>\n      <th>DSDOPER</th>\n      <th>DSDQTY</th>\n      <th>DSDUNIT</th>\n      <th>DSDCAT</th>\n      <th>DSDBLFLG</th>\n      <th>DSDINGID</th>\n    </tr>\n  </thead>\n  <tbody>\n    <tr>\n      <th>5</th>\n      <td>1001155000</td>\n      <td>5417.676220</td>\n      <td>SPRING VALLEY</td>\n      <td>SPRING VALLEY STANDARDIZED EXTRACT CRANBERRY 5...</td>\n      <td>15346.0</td>\n      <td>SPRING VALLEY STANDARDIZED EXTRACT CRANBERRY 5...</td>\n      <td>419.0</td>\n      <td>CRANBERRY FRUIT EXTRACT</td>\n      <td>=</td>\n      <td>500.0</td>\n      <td>1.0</td>\n      <td>3.0</td>\n      <td>2.0</td>\n      <td>10000462</td>\n    </tr>\n    <tr>\n      <th>3</th>\n      <td>1001066301</td>\n      <td>9888.322728</td>\n      <td>CVS HEALTH</td>\n      <td>CVS HEALTH CRANBERRY 4200 MG EQUIVALENT PER SO...</td>\n      <td>16731.0</td>\n      <td>CVS HEALTH CRANBERRY 4200 MG EQUIVALENT PER SO...</td>\n      <td>365.0</td>\n      <td>VITAMIN E</td>\n      <td>=</td>\n      <td>6.0</td>\n      <td>2.0</td>\n      <td>1.0</td>\n      <td>2.0</td>\n      <td>10000386</td>\n    </tr>\n    <tr>\n      <th>3</th>\n      <td>1001066301</td>\n      <td>9888.322728</td>\n      <td>CVS HEALTH</td>\n      <td>CVS HEALTH CRANBERRY 4200 MG EQUIVALENT PER SO...</td>\n      <td>16731.0</td>\n      <td>CVS HEALTH CRANBERRY 4200 MG EQUIVALENT PER SO...</td>\n      <td>694.0</td>\n      <td>CRANBERRY CONCENTRATE (FRUIT)</td>\n      <td>=</td>\n      <td>168.0</td>\n      <td>1.0</td>\n      <td>3.0</td>\n      <td>2.0</td>\n      <td>10000767</td>\n    </tr>\n    <tr>\n      <th>3</th>\n      <td>1001066301</td>\n      <td>9888.322728</td>\n      <td>CVS HEALTH</td>\n      <td>CVS HEALTH CRANBERRY 4200 MG EQUIVALENT PER SO...</td>\n      <td>16731.0</td>\n      <td>CVS HEALTH CRANBERRY 4200 MG EQUIVALENT PER SO...</td>\n      <td>893.0</td>\n      <td>VITAMIN C</td>\n      <td>=</td>\n      <td>40.0</td>\n      <td>1.0</td>\n      <td>1.0</td>\n      <td>2.0</td>\n      <td>10000979</td>\n    </tr>\n    <tr>\n      <th>8</th>\n      <td>1001231500</td>\n      <td>21865.049936</td>\n      <td>PURITANS PRIDE</td>\n      <td>PURITAN'S PRIDE NATURAL CRANBERRY FRUIT CONCEN...</td>\n      <td>16737.0</td>\n      <td>PURITAN'S PRIDE NATURAL CRANBERRY FRUIT CONCEN...</td>\n      <td>3013.0</td>\n      <td>CRANBERRY FRUIT POWDER</td>\n      <td>=</td>\n      <td>25000.0</td>\n      <td>1.0</td>\n      <td>3.0</td>\n      <td>2.0</td>\n      <td>10003213</td>\n    </tr>\n  </tbody>\n</table>\n</div>"
     },
     "metadata": {},
     "execution_count": 221
    }
   ],
   "source": []
  },
  {
   "cell_type": "code",
   "execution_count": null,
   "metadata": {},
   "outputs": [],
   "source": []
  }
 ]
}